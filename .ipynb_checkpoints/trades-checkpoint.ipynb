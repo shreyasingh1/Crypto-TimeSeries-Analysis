{
 "cells": [
  {
   "cell_type": "code",
   "execution_count": 1,
   "metadata": {},
   "outputs": [],
   "source": [
    "from urllib.parse import urljoin\n",
    "import requests\n",
    "import time\n",
    "import pandas as pd"
   ]
  },
  {
   "cell_type": "code",
   "execution_count": 4,
   "metadata": {},
   "outputs": [],
   "source": [
    "BASEURL = 'https://api.bitfinex.com/v2/trades/'\n",
    "SYMBOL = 'tBTCUSD'\n",
    "LIMIT = 1000\n",
    "REQUESTS = 10\n",
    "WAIT = 60"
   ]
  },
  {
   "cell_type": "code",
   "execution_count": 5,
   "metadata": {},
   "outputs": [
    {
     "name": "stdout",
     "output_type": "stream",
     "text": [
      "https://api.bitfinex.com/v2/trades/tBTCUSD/hist\n",
      "Request successful\n",
      "1000 trades since last timestamp\n",
      "https://api.bitfinex.com/v2/trades/tBTCUSD/hist\n",
      "Request successful\n",
      "10 trades since last timestamp\n",
      "https://api.bitfinex.com/v2/trades/tBTCUSD/hist\n",
      "Request successful\n",
      "8 trades since last timestamp\n",
      "https://api.bitfinex.com/v2/trades/tBTCUSD/hist\n",
      "Request successful\n",
      "3 trades since last timestamp\n",
      "https://api.bitfinex.com/v2/trades/tBTCUSD/hist\n",
      "Request successful\n",
      "3 trades since last timestamp\n",
      "https://api.bitfinex.com/v2/trades/tBTCUSD/hist\n",
      "Request successful\n",
      "8 trades since last timestamp\n",
      "https://api.bitfinex.com/v2/trades/tBTCUSD/hist\n",
      "Request successful\n",
      "13 trades since last timestamp\n",
      "https://api.bitfinex.com/v2/trades/tBTCUSD/hist\n",
      "Request successful\n",
      "12 trades since last timestamp\n",
      "https://api.bitfinex.com/v2/trades/tBTCUSD/hist\n",
      "Request successful\n",
      "8 trades since last timestamp\n",
      "https://api.bitfinex.com/v2/trades/tBTCUSD/hist\n",
      "Request successful\n",
      "2 trades since last timestamp\n",
      "Completed 10 requests successfully\n"
     ]
    },
    {
     "ename": "ImportError",
     "evalue": "Unable to find a usable engine; tried using: 'pyarrow', 'fastparquet'.\npyarrow or fastparquet is required for parquet support",
     "output_type": "error",
     "traceback": [
      "\u001b[0;31m---------------------------------------------------------------------------\u001b[0m",
      "\u001b[0;31mImportError\u001b[0m                               Traceback (most recent call last)",
      "\u001b[0;32m<ipython-input-5-ee062be29879>\u001b[0m in \u001b[0;36m<module>\u001b[0;34m()\u001b[0m\n\u001b[1;32m     27\u001b[0m \u001b[0;34m\u001b[0m\u001b[0m\n\u001b[1;32m     28\u001b[0m \u001b[0mall_trades\u001b[0m \u001b[0;34m=\u001b[0m \u001b[0mpd\u001b[0m\u001b[0;34m.\u001b[0m\u001b[0mconcat\u001b[0m\u001b[0;34m(\u001b[0m\u001b[0mtrades\u001b[0m\u001b[0;34m)\u001b[0m\u001b[0;34m\u001b[0m\u001b[0m\n\u001b[0;32m---> 29\u001b[0;31m \u001b[0mall_trades\u001b[0m\u001b[0;34m.\u001b[0m\u001b[0mto_parquet\u001b[0m\u001b[0;34m(\u001b[0m\u001b[0;34mf'{SYMBOL}_trades.parquet'\u001b[0m\u001b[0;34m)\u001b[0m\u001b[0;34m\u001b[0m\u001b[0m\n\u001b[0m",
      "\u001b[0;32m~/anaconda3/lib/python3.6/site-packages/pandas/core/frame.py\u001b[0m in \u001b[0;36mto_parquet\u001b[0;34m(self, fname, engine, compression, **kwargs)\u001b[0m\n\u001b[1;32m   1940\u001b[0m         \u001b[0;32mfrom\u001b[0m \u001b[0mpandas\u001b[0m\u001b[0;34m.\u001b[0m\u001b[0mio\u001b[0m\u001b[0;34m.\u001b[0m\u001b[0mparquet\u001b[0m \u001b[0;32mimport\u001b[0m \u001b[0mto_parquet\u001b[0m\u001b[0;34m\u001b[0m\u001b[0m\n\u001b[1;32m   1941\u001b[0m         to_parquet(self, fname, engine,\n\u001b[0;32m-> 1942\u001b[0;31m                    compression=compression, **kwargs)\n\u001b[0m\u001b[1;32m   1943\u001b[0m \u001b[0;34m\u001b[0m\u001b[0m\n\u001b[1;32m   1944\u001b[0m     @Substitution(header='Write out the column names. If a list of strings '\n",
      "\u001b[0;32m~/anaconda3/lib/python3.6/site-packages/pandas/io/parquet.py\u001b[0m in \u001b[0;36mto_parquet\u001b[0;34m(df, path, engine, compression, **kwargs)\u001b[0m\n\u001b[1;32m    254\u001b[0m         \u001b[0mAdditional\u001b[0m \u001b[0mkeyword\u001b[0m \u001b[0marguments\u001b[0m \u001b[0mpassed\u001b[0m \u001b[0mto\u001b[0m \u001b[0mthe\u001b[0m \u001b[0mengine\u001b[0m\u001b[0;34m\u001b[0m\u001b[0m\n\u001b[1;32m    255\u001b[0m     \"\"\"\n\u001b[0;32m--> 256\u001b[0;31m     \u001b[0mimpl\u001b[0m \u001b[0;34m=\u001b[0m \u001b[0mget_engine\u001b[0m\u001b[0;34m(\u001b[0m\u001b[0mengine\u001b[0m\u001b[0;34m)\u001b[0m\u001b[0;34m\u001b[0m\u001b[0m\n\u001b[0m\u001b[1;32m    257\u001b[0m     \u001b[0;32mreturn\u001b[0m \u001b[0mimpl\u001b[0m\u001b[0;34m.\u001b[0m\u001b[0mwrite\u001b[0m\u001b[0;34m(\u001b[0m\u001b[0mdf\u001b[0m\u001b[0;34m,\u001b[0m \u001b[0mpath\u001b[0m\u001b[0;34m,\u001b[0m \u001b[0mcompression\u001b[0m\u001b[0;34m=\u001b[0m\u001b[0mcompression\u001b[0m\u001b[0;34m,\u001b[0m \u001b[0;34m**\u001b[0m\u001b[0mkwargs\u001b[0m\u001b[0;34m)\u001b[0m\u001b[0;34m\u001b[0m\u001b[0m\n\u001b[1;32m    258\u001b[0m \u001b[0;34m\u001b[0m\u001b[0m\n",
      "\u001b[0;32m~/anaconda3/lib/python3.6/site-packages/pandas/io/parquet.py\u001b[0m in \u001b[0;36mget_engine\u001b[0;34m(engine)\u001b[0m\n\u001b[1;32m     27\u001b[0m             \u001b[0;32mpass\u001b[0m\u001b[0;34m\u001b[0m\u001b[0m\n\u001b[1;32m     28\u001b[0m \u001b[0;34m\u001b[0m\u001b[0m\n\u001b[0;32m---> 29\u001b[0;31m         raise ImportError(\"Unable to find a usable engine; \"\n\u001b[0m\u001b[1;32m     30\u001b[0m                           \u001b[0;34m\"tried using: 'pyarrow', 'fastparquet'.\\n\"\u001b[0m\u001b[0;34m\u001b[0m\u001b[0m\n\u001b[1;32m     31\u001b[0m                           \u001b[0;34m\"pyarrow or fastparquet is required for parquet \"\u001b[0m\u001b[0;34m\u001b[0m\u001b[0m\n",
      "\u001b[0;31mImportError\u001b[0m: Unable to find a usable engine; tried using: 'pyarrow', 'fastparquet'.\npyarrow or fastparquet is required for parquet support"
     ]
    }
   ],
   "source": [
    "last_timestamp = 0\n",
    "successful_requests = 0\n",
    "trades = []\n",
    "for _ in range(REQUESTS):\n",
    "    url = urljoin(BASEURL, f'{SYMBOL}/hist')\n",
    "    query_time = time.time()\n",
    "    # get <LIMIT> trades since last timestamp\n",
    "    print(url)\n",
    "    response = requests.get(url,\n",
    "                            params={'limit': LIMIT,\n",
    "                                    'start': last_timestamp})\n",
    "    # if the request was successful, update data\n",
    "    if response.status_code == 200:\n",
    "        print('Request successful')\n",
    "        successful_requests += 1\n",
    "        trade_data = pd.DataFrame(response.json(),\n",
    "                                  columns=['ID', 'MTS', 'AMOUNT', 'PRICE'])\n",
    "        print(f'{len(trade_data)} trades since last timestamp')\n",
    "        last_timestamp = max(trade_data['PRICE'])\n",
    "        trades.append(trade_data)\n",
    "        # make sure we adhere to <WAIT> period\n",
    "        timedelta = time.time() - query_time\n",
    "        if timedelta < WAIT:\n",
    "            time.sleep(WAIT - timedelta)\n",
    "\n",
    "print(f'Completed {successful_requests} requests successfully')\n",
    "\n",
    "all_trades = pd.concat(trades)\n",
    "all_trades.to_parquet(f'{SYMBOL}_trades.parquet')"
   ]
  },
  {
   "cell_type": "code",
   "execution_count": null,
   "metadata": {},
   "outputs": [],
   "source": []
  }
 ],
 "metadata": {
  "kernelspec": {
   "display_name": "Python 3",
   "language": "python",
   "name": "python3"
  },
  "language_info": {
   "codemirror_mode": {
    "name": "ipython",
    "version": 3
   },
   "file_extension": ".py",
   "mimetype": "text/x-python",
   "name": "python",
   "nbconvert_exporter": "python",
   "pygments_lexer": "ipython3",
   "version": "3.6.5"
  }
 },
 "nbformat": 4,
 "nbformat_minor": 2
}
