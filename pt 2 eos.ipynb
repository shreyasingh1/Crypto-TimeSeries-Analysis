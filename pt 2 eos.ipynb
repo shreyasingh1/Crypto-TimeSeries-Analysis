{
 "cells": [
  {
   "cell_type": "code",
   "execution_count": 2,
   "metadata": {},
   "outputs": [
    {
     "name": "stdout",
     "output_type": "stream",
     "text": [
      "https://api.bitfinex.com/v2/trades/tEOSUSD/hist\n",
      "Request successful\n",
      "1000 trades since last timestamp\n",
      "https://api.bitfinex.com/v2/trades/tEOSUSD/hist\n",
      "Request successful\n",
      "183 trades since last timestamp\n",
      "https://api.bitfinex.com/v2/trades/tEOSUSD/hist\n",
      "Request successful\n",
      "64 trades since last timestamp\n",
      "https://api.bitfinex.com/v2/trades/tEOSUSD/hist\n",
      "Request successful\n",
      "223 trades since last timestamp\n",
      "https://api.bitfinex.com/v2/trades/tEOSUSD/hist\n",
      "Request successful\n",
      "218 trades since last timestamp\n",
      "https://api.bitfinex.com/v2/trades/tEOSUSD/hist\n",
      "Request successful\n",
      "300 trades since last timestamp\n",
      "https://api.bitfinex.com/v2/trades/tEOSUSD/hist\n",
      "Request successful\n",
      "282 trades since last timestamp\n",
      "https://api.bitfinex.com/v2/trades/tEOSUSD/hist\n",
      "Request successful\n",
      "102 trades since last timestamp\n",
      "https://api.bitfinex.com/v2/trades/tEOSUSD/hist\n",
      "Request successful\n",
      "143 trades since last timestamp\n",
      "https://api.bitfinex.com/v2/trades/tEOSUSD/hist\n",
      "Request successful\n",
      "136 trades since last timestamp\n",
      "Completed 10 requests successfully\n",
      "            ID            MTS       AMOUNT     PRICE\n",
      "0    264782979  1530628105999     3.999242  8.860000\n",
      "1    264782978  1530628105996   399.000000  8.860000\n",
      "2    264782977  1530628105994   245.055758  8.860000\n",
      "3    264782907  1530628090304    54.777028  8.857000\n",
      "4    264782832  1530628054281    72.562000  8.854700\n",
      "5    264782831  1530628054278     8.000000  8.854600\n",
      "6    264782814  1530628037943   100.357900  8.857000\n",
      "7    264782813  1530628037941    41.642100  8.856900\n",
      "8    264782812  1530628037940     8.000000  8.856800\n",
      "9    264782686  1530627981487   -19.575890  8.848100\n",
      "10   264782685  1530627981485   -10.000000  8.852900\n",
      "11   264782684  1530627981482    -8.000000  8.853700\n",
      "12   264782481  1530627905640  -150.068567  8.851100\n",
      "13   264782480  1530627905638    -8.000000  8.851500\n",
      "14   264782479  1530627905298   -79.136006  8.851500\n",
      "15   264782478  1530627905278   -99.041451  8.851500\n",
      "16   264782473  1530627904604    74.944242  8.860000\n",
      "17   264782472  1530627904601     8.000000  8.856000\n",
      "18   264782471  1530627904599   173.886000  8.854300\n",
      "19   264782402  1530627896983  -179.422294  8.848100\n",
      "20   264782401  1530627896981    -3.000000  8.849400\n",
      "21   264782400  1530627896975  -259.959706  8.849629\n",
      "22   264782398  1530627896972  -250.000000  8.850500\n",
      "23   264782397  1530627896970   -29.618000  8.850500\n",
      "24   264782396  1530627896968    -8.000000  8.859100\n",
      "25   264782395  1530627896964  -470.000000  8.859100\n",
      "26   264782367  1530627887321     5.000000  8.859500\n",
      "27   264782366  1530627887319    10.000000  8.859500\n",
      "28   264782339  1530627867374   -24.752563  8.860000\n",
      "29   264782267  1530627858578  -400.000000  8.860000\n",
      "..         ...            ...          ...       ...\n",
      "106  264802032  1530631107880  -212.000000  8.957700\n",
      "107  264802031  1530631107876   -80.000000  8.960600\n",
      "108  264802030  1530631107872  -200.000000  8.962200\n",
      "109  264802029  1530631107868    -8.000000  8.962200\n",
      "110  264802026  1530631106532  -120.000000  8.962200\n",
      "111  264802020  1530631105775   370.000000  8.960600\n",
      "112  264802019  1530631105773    10.000000  8.960600\n",
      "113  264801928  1530631093952   222.494160  8.957500\n",
      "114  264801909  1530631091692   162.417903  8.958654\n",
      "115  264801907  1530631091689    10.000000  8.957600\n",
      "116  264801906  1530631091685     8.000000  8.951700\n",
      "117  264801905  1530631091682    19.582097  8.948900\n",
      "118  264801904  1530631091530   339.656507  8.948900\n",
      "119  264801901  1530631091251   600.000000  8.948900\n",
      "120  264801899  1530631091007    20.761396  8.948900\n",
      "121  264801898  1530631090440   520.000000  8.948900\n",
      "122  264801897  1530631090438    80.000000  8.948700\n",
      "123  264801882  1530631085947   -70.000000  8.948600\n",
      "124  264801879  1530631084806   100.628626  8.948700\n",
      "125  264801770  1530631055916   -40.000000  8.948600\n",
      "126  264801683  1530631019458   -80.000000  8.949900\n",
      "127  264801679  1530631018820  -514.446788  8.950000\n",
      "128  264801678  1530631018604 -5000.000000  8.950000\n",
      "129  264801672  1530631015099  -150.000000  8.950000\n",
      "130  264801664  1530631014255 -1000.000000  8.950000\n",
      "131  264801662  1530631012872    55.260000  8.950500\n",
      "132  264801625  1530631009741   -35.553212  8.950000\n",
      "133  264801605  1530631002296   200.000000  8.950400\n",
      "134  264801597  1530631000245   -20.000000  8.950100\n",
      "135  264801575  1530630996109   -99.045530  8.950100\n",
      "\n",
      "[2651 rows x 4 columns]\n"
     ]
    }
   ],
   "source": [
    "from urllib.parse import urljoin\n",
    "import requests\n",
    "import time\n",
    "import pandas as pd\n",
    "\n",
    "# base URL for GET request to obtain trade data\n",
    "BASEURL = 'https://api.bitfinex.com/v2/trades/'\n",
    "# coin pair to obtain trades for\n",
    "SYMBOL = 'tEOSUSD'\n",
    "# number of trades to obtain per query\n",
    "LIMIT = 1000\n",
    "# number of total requests to send\n",
    "REQUESTS = 10\n",
    "# time between requests in seconds\n",
    "WAIT = 360\n",
    "\n",
    "# default value -> get the latest trades\n",
    "last_timestamp = 0\n",
    "successful_requests = 0\n",
    "trades = []\n",
    "for _ in range(REQUESTS):\n",
    "    url = urljoin(BASEURL, f'{SYMBOL}/hist')\n",
    "    query_time = time.time()\n",
    "    # get <LIMIT> trades since last timestamp\n",
    "    print(url)\n",
    "    response = requests.get(url,\n",
    "                            params={'limit': LIMIT,\n",
    "                                    'start': last_timestamp})\n",
    "    # if the request was successful, update data\n",
    "    if response.status_code == 200:\n",
    "        print('Request successful')\n",
    "        successful_requests += 1\n",
    "        trade_data = pd.DataFrame(response.json(),\n",
    "                                  columns=['ID', 'MTS', 'AMOUNT', 'PRICE'])\n",
    "        print(f'{len(trade_data)} trades since last timestamp')\n",
    "        last_timestamp = max(trade_data['MTS'])\n",
    "        trades.append(trade_data)\n",
    "        # make sure we adhere to <WAIT> period\n",
    "        timedelta = time.time() - query_time\n",
    "        if timedelta < WAIT:\n",
    "            time.sleep(WAIT - timedelta)\n",
    "\n",
    "print(f'Completed {successful_requests} requests successfully')\n",
    "\n",
    "all_trades = pd.concat(trades)\n",
    "\n",
    "print(all_trades)\n"
   ]
  },
  {
   "cell_type": "code",
   "execution_count": 4,
   "metadata": {},
   "outputs": [
    {
     "data": {
      "text/plain": [
       "Text(0,0.5,'Amount')"
      ]
     },
     "execution_count": 4,
     "metadata": {},
     "output_type": "execute_result"
    },
    {
     "data": {
      "image/png": "[encoded data removed]",
      "text/plain": [
       "<Figure size 432x288 with 1 Axes>"
      ]
     },
     "metadata": {},
     "output_type": "display_data"
    }
   ],
   "source": [
    "import matplotlib.pyplot as plt\n",
    "\n",
    "plt.plot(all_trades['MTS'], all_trades['AMOUNT'], color=\"blue\")\n",
    "plt.title(\"Time vs Amount EOS\")\n",
    "plt.xlabel(\"MTS\")\n",
    "plt.ylabel(\"Amount\")"
   ]
  },
  {
   "cell_type": "code",
   "execution_count": 11,
   "metadata": {},
   "outputs": [
    {
     "data": {
      "text/plain": [
       "(array([1.000e+00, 0.000e+00, 0.000e+00, 0.000e+00, 0.000e+00, 0.000e+00,\n",
       "        0.000e+00, 0.000e+00, 0.000e+00, 0.000e+00, 1.000e+00, 0.000e+00,\n",
       "        0.000e+00, 0.000e+00, 0.000e+00, 0.000e+00, 0.000e+00, 0.000e+00,\n",
       "        1.000e+00, 0.000e+00, 0.000e+00, 0.000e+00, 1.000e+00, 0.000e+00,\n",
       "        0.000e+00, 1.000e+00, 1.000e+00, 0.000e+00, 1.000e+00, 1.000e+00,\n",
       "        1.000e+00, 1.000e+00, 5.000e+00, 1.000e+00, 1.000e+00, 1.000e+01,\n",
       "        1.100e+01, 1.700e+01, 1.200e+01, 2.400e+01, 1.170e+02, 6.000e+01,\n",
       "        1.080e+02, 1.830e+02, 1.006e+03, 6.000e+02, 1.770e+02, 1.140e+02,\n",
       "        5.500e+01, 7.900e+01, 1.000e+01, 1.000e+01, 9.000e+00, 1.100e+01,\n",
       "        1.000e+01, 4.000e+00, 0.000e+00, 0.000e+00, 1.000e+00, 0.000e+00,\n",
       "        1.000e+00, 0.000e+00, 0.000e+00, 0.000e+00, 0.000e+00, 0.000e+00,\n",
       "        0.000e+00, 1.000e+00, 0.000e+00, 1.000e+00, 0.000e+00, 0.000e+00,\n",
       "        0.000e+00, 0.000e+00, 0.000e+00, 0.000e+00, 0.000e+00, 0.000e+00,\n",
       "        2.000e+00, 0.000e+00, 0.000e+00, 0.000e+00, 0.000e+00, 0.000e+00,\n",
       "        0.000e+00, 0.000e+00, 0.000e+00, 0.000e+00, 0.000e+00, 0.000e+00,\n",
       "        0.000e+00, 0.000e+00, 0.000e+00, 0.000e+00, 0.000e+00, 0.000e+00,\n",
       "        0.000e+00, 0.000e+00, 0.000e+00, 1.000e+00]),\n",
       " array([-5000.        , -4888.49173649, -4776.98347298, -4665.47520947,\n",
       "        -4553.96694596, -4442.45868245, -4330.95041894, -4219.44215543,\n",
       "        -4107.93389192, -3996.42562841, -3884.9173649 , -3773.40910139,\n",
       "        -3661.90083788, -3550.39257437, -3438.88431086, -3327.37604735,\n",
       "        -3215.86778384, -3104.35952033, -2992.85125682, -2881.34299331,\n",
       "        -2769.8347298 , -2658.32646629, -2546.81820278, -2435.30993927,\n",
       "        -2323.80167576, -2212.29341225, -2100.78514874, -1989.27688523,\n",
       "        -1877.76862172, -1766.26035821, -1654.7520947 , -1543.24383119,\n",
       "        -1431.73556768, -1320.22730417, -1208.71904066, -1097.21077715,\n",
       "         -985.70251364,  -874.19425013,  -762.68598662,  -651.17772311,\n",
       "         -539.6694596 ,  -428.16119609,  -316.65293258,  -205.14466907,\n",
       "          -93.63640556,    17.87185795,   129.38012146,   240.88838497,\n",
       "          352.39664848,   463.90491199,   575.4131755 ,   686.92143901,\n",
       "          798.42970252,   909.93796603,  1021.44622954,  1132.95449305,\n",
       "         1244.46275656,  1355.97102007,  1467.47928358,  1578.98754709,\n",
       "         1690.4958106 ,  1802.00407411,  1913.51233762,  2025.02060113,\n",
       "         2136.52886464,  2248.03712815,  2359.54539166,  2471.05365517,\n",
       "         2582.56191868,  2694.07018219,  2805.5784457 ,  2917.08670921,\n",
       "         3028.59497272,  3140.10323623,  3251.61149974,  3363.11976325,\n",
       "         3474.62802676,  3586.13629027,  3697.64455378,  3809.15281729,\n",
       "         3920.6610808 ,  4032.16934431,  4143.67760782,  4255.18587133,\n",
       "         4366.69413484,  4478.20239835,  4589.71066186,  4701.21892537,\n",
       "         4812.72718888,  4924.23545239,  5035.7437159 ,  5147.25197941,\n",
       "         5258.76024292,  5370.26850643,  5481.77676994,  5593.28503345,\n",
       "         5704.79329696,  5816.30156047,  5927.80982398,  6039.31808749,\n",
       "         6150.826351  ]),\n",
       " <a list of 100 Patch objects>)"
      ]
     },
     "execution_count": 11,
     "metadata": {},
     "output_type": "execute_result"
    },
    {
     "data": {
      "image/png": "[encoded data removed]",
      "text/plain": [
       "<Figure size 432x288 with 1 Axes>"
      ]
     },
     "metadata": {},
     "output_type": "display_data"
    }
   ],
   "source": [
    "plt.hist(all_trades['AMOUNT'], bins=100)\n"
   ]
  },
  {
   "cell_type": "code",
   "execution_count": null,
   "metadata": {},
   "outputs": [],
   "source": []
  }
 ],
 "metadata": {
  "kernelspec": {
   "display_name": "Python 3",
   "language": "python",
   "name": "python3"
  },
  "language_info": {
   "codemirror_mode": {
    "name": "ipython",
    "version": 3
   },
   "file_extension": ".py",
   "mimetype": "text/x-python",
   "name": "python",
   "nbconvert_exporter": "python",
   "pygments_lexer": "ipython3",
   "version": "3.6.5"
  }
 },
 "nbformat": 4,
 "nbformat_minor": 2
}
