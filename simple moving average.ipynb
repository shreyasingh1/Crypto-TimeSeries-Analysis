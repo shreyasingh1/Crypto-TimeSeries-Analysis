{
 "cells": [
  {
   "cell_type": "code",
   "execution_count": null,
   "metadata": {},
   "outputs": [],
   "source": [
    "import pandas as pd \n",
    "import matplotlib.pyplot as plt\n",
    "import numpy as np\n",
    "import os\n",
    "from datetime import datetime\n",
    "import pyarrow\n",
    "import "
   ]
  },
  {
   "cell_type": "code",
   "execution_count": 6,
   "metadata": {},
   "outputs": [
    {
     "name": "stdout",
     "output_type": "stream",
     "text": [
      "Object `pyarrow` not found.\n"
     ]
    }
   ],
   "source": [
    "?pyarrow"
   ]
  },
  {
   "cell_type": "markdown",
   "metadata": {},
   "source": [
    "## Don't run this yet!"
   ]
  },
  {
   "cell_type": "code",
   "execution_count": null,
   "metadata": {},
   "outputs": [],
   "source": [
    "\"\"\" def write_processed(exchange, symbol, data, loc=None):\n",
    "   \"\"\"\n",
    "   # Write processed features for a given exchange and coin pair\n",
    "   # to a parquet file named '<exchange>_<symbol>_trades.parquet'.\n",
    "\n",
    "   # :param exchange: str exchange name\n",
    "   # :param symbol: str symbol name\n",
    "   # :param data: dataframe\n",
    "   # :param loc: alternative filepath in which to save\n",
    "   \"\"\"\n",
    "   filename = f'{exchange}_{symbol}_trades.parquet'\n",
    "   path = os.getcwd() if loc is None else loc\n",
    "   filepath = os.path.join(path, filename)\n",
    "   data.to_parquet(filepath)\n",
    "   \"\"\""
   ]
  },
  {
   "cell_type": "code",
   "execution_count": null,
   "metadata": {},
   "outputs": [],
   "source": [
    "def convert_dates(date):\n",
    "    \"\"\"\n",
    "    Converts time since the Unix epoch in milliseconds to a datetime object.\n",
    "    \"\"\"\n",
    "    return datetime.fromtimestamp(date / 1000)\n",
    "\n",
    "def read_trade_data(filepath):\n",
    "    \"\"\"\n",
    "    Read csv containing crypto trade data at <filepath>, convert time fields\n",
    "    and select relevant columns.\n",
    "\n",
    "    :param filepath: path to csv file\n",
    "    :returns: (exchange, symbol, preprocessed Pandas dataframe)\n",
    "    \"\"\"\n",
    "    trades = pd.read_csv(filepath)\n",
    "    # convert dates from unix timestamps\n",
    "    trades['date'] = trades['date'].apply(convert_dates)\n",
    "    trades.set_index('date', inplace=True)\n",
    "    trades.sort_index(ascending=True, inplace=True)\n",
    "    # check data relates to a single exchange and coin pair\n",
    "    assert trades['exchange'].nunique() == 1, 'Multiple exchanges present'\n",
    "    assert trades['symbol'].nunique() == 1, 'Multiple symbols present'\n",
    "    # select relevant columns\n",
    "    trade_features = trades[['price', 'amount', 'sell']]\n",
    "    exchange = trades['exchange'].iloc[0]\n",
    "    symbol = trades['symbol'].iloc[0]\n",
    "    return exchange, symbol, trade_features\n",
    "\n",
    "def write_processed(exchange, symbol, data, loc=None):\n",
    "   \"\"\"\n",
    "   Write processed features for a given exchange and coin pair\n",
    "   to a parquet file named '<exchange>_<symbol>_trades.parquet'.\n",
    "\n",
    "   :param exchange: str exchange name\n",
    "   :param symbol: str symbol name\n",
    "   :param data: dataframe\n",
    "   :param loc: alternative filepath in which to save\n",
    "   \"\"\"\n",
    "   filename = f'{exchange}_{symbol}_trades.parquet'\n",
    "   path = os.getcwd() if loc is None else loc\n",
    "   filepath = os.path.join(path, filename)\n",
    "   data.to_parquet(filepath)\n",
    "\n",
    "if __name__ == \"__main__\":\n",
    "   exchange, symbol, data = read_trade_data('Bitfinex_BTCEUR_trades_'\n",
    "                                            '2018_02_02.csv')\n",
    "   write_processed(exchange, symbol, data)"
   ]
  },
  {
   "cell_type": "code",
   "execution_count": null,
   "metadata": {},
   "outputs": [],
   "source": [
    "trades = pd.read_csv(\"Bitfinex_BTCEUR_trades_2018_02_02.csv\")"
   ]
  },
  {
   "cell_type": "code",
   "execution_count": null,
   "metadata": {},
   "outputs": [],
   "source": [
    "file.head()"
   ]
  },
  {
   "cell_type": "code",
   "execution_count": null,
   "metadata": {},
   "outputs": [],
   "source": [
    "def convert_dates(date):\n",
    "    \"\"\"\n",
    "    Converts time since the Unix epoch in milliseconds to a datetime object.\n",
    "    \"\"\"\n",
    "    return datetime.fromtimestamp(date / 1000)"
   ]
  },
  {
   "cell_type": "code",
   "execution_count": null,
   "metadata": {},
   "outputs": [],
   "source": [
    "# convert dates from unix timestamps\n",
    "trades['date'] = trades['date'].apply(convert_dates)"
   ]
  },
  {
   "cell_type": "code",
   "execution_count": null,
   "metadata": {},
   "outputs": [],
   "source": [
    "trades.set_index('date', inplace=True)\n",
    "trades.sort_index(ascending=True, inplace=True)\n",
    "# check data relates to a single exchange and coin pair\n",
    "assert trades['exchange'].nunique() == 1, 'Multiple exchanges present'\n",
    "assert trades['symbol'].nunique() == 1, 'Multiple symbols present'\n",
    "# select relevant columns\n",
    "trade_features = trades[['price', 'amount', 'sell']]\n",
    "exchange = trades['exchange'].iloc[0]\n",
    "symbol = trades['symbol'].iloc[0]"
   ]
  },
  {
   "cell_type": "code",
   "execution_count": null,
   "metadata": {},
   "outputs": [],
   "source": []
  },
  {
   "cell_type": "code",
   "execution_count": null,
   "metadata": {},
   "outputs": [],
   "source": [
    "from fastparquet import ParquetFile\n",
    "#trades = pd.read_parquet('Bitfinex_BTCEUR_trades_2018_02_02.csv')"
   ]
  },
  {
   "cell_type": "code",
   "execution_count": null,
   "metadata": {},
   "outputs": [],
   "source": [
    "np.array(file['price'])\n",
    "\n"
   ]
  },
  {
   "cell_type": "code",
   "execution_count": null,
   "metadata": {},
   "outputs": [],
   "source": [
    "def movingaverage(values, window):\n",
    "    weights = np.repeat(1.0, window)/ window\n",
    "    smas = np.convolve(values, weights, 'valid')\n",
    "    return smas\n",
    "x = movingaverage(file['price'], 5)\n",
    "print(x)\n",
    "\n",
    "plt.style.use('seaborn-whitegrid')\n",
    "fig = plt.figure()\n",
    "ax = plt.axes()\n",
    "x = np.linspace(0, 16000, 15701)\n",
    "y = movingaverage(file['price'], 15)\n",
    "\n",
    "print(x.shape)\n",
    "print(y.shape)\n",
    "plt.plot(x, y)\n",
    "plt.xlabel(\"Date\")\n",
    "plt.ylabel(\"Price\")"
   ]
  },
  {
   "cell_type": "code",
   "execution_count": null,
   "metadata": {},
   "outputs": [],
   "source": []
  },
  {
   "cell_type": "code",
   "execution_count": null,
   "metadata": {},
   "outputs": [],
   "source": [
    "file = pd.read_parquet('bf_btceur_trades.parquet')"
   ]
  },
  {
   "cell_type": "code",
   "execution_count": null,
   "metadata": {},
   "outputs": [],
   "source": [
    "\n",
    "pd.read_parquet (Bitfinex_BTCEUR_trades_2018_02_02.pdf)"
   ]
  },
  {
   "cell_type": "code",
   "execution_count": null,
   "metadata": {},
   "outputs": [],
   "source": [
    "\n"
   ]
  },
  {
   "cell_type": "code",
   "execution_count": null,
   "metadata": {},
   "outputs": [],
   "source": []
  },
  {
   "cell_type": "code",
   "execution_count": null,
   "metadata": {},
   "outputs": [],
   "source": []
  },
  {
   "cell_type": "code",
   "execution_count": null,
   "metadata": {},
   "outputs": [],
   "source": []
  },
  {
   "cell_type": "code",
   "execution_count": null,
   "metadata": {},
   "outputs": [],
   "source": []
  },
  {
   "cell_type": "code",
   "execution_count": null,
   "metadata": {},
   "outputs": [],
   "source": []
  },
  {
   "cell_type": "code",
   "execution_count": null,
   "metadata": {},
   "outputs": [],
   "source": []
  },
  {
   "cell_type": "code",
   "execution_count": null,
   "metadata": {},
   "outputs": [],
   "source": []
  }
 ],
 "metadata": {
  "kernelspec": {
   "display_name": "Python 3",
   "language": "python",
   "name": "python3"
  },
  "language_info": {
   "codemirror_mode": {
    "name": "ipython",
    "version": 3
   },
   "file_extension": ".py",
   "mimetype": "text/x-python",
   "name": "python",
   "nbconvert_exporter": "python",
   "pygments_lexer": "ipython3",
   "version": "3.6.5"
  }
 },
 "nbformat": 4,
 "nbformat_minor": 2
}
