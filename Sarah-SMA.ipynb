{
 "cells": [
  {
   "cell_type": "code",
   "execution_count": 359,
   "metadata": {},
   "outputs": [
    {
     "data": {
      "text/html": [
       "<div>\n",
       "<style scoped>\n",
       "    .dataframe tbody tr th:only-of-type {\n",
       "        vertical-align: middle;\n",
       "    }\n",
       "\n",
       "    .dataframe tbody tr th {\n",
       "        vertical-align: top;\n",
       "    }\n",
       "\n",
       "    .dataframe thead th {\n",
       "        text-align: right;\n",
       "    }\n",
       "</style>\n",
       "<table border=\"1\" class=\"dataframe\">\n",
       "  <thead>\n",
       "    <tr style=\"text-align: right;\">\n",
       "      <th></th>\n",
       "      <th>id</th>\n",
       "      <th>exchange</th>\n",
       "      <th>symbol</th>\n",
       "      <th>date</th>\n",
       "      <th>price</th>\n",
       "      <th>amount</th>\n",
       "      <th>sell</th>\n",
       "    </tr>\n",
       "  </thead>\n",
       "  <tbody>\n",
       "    <tr>\n",
       "      <th>0</th>\n",
       "      <td>183601815</td>\n",
       "      <td>bf</td>\n",
       "      <td>btceur</td>\n",
       "      <td>1517529608000</td>\n",
       "      <td>7349.60000</td>\n",
       "      <td>0.004568</td>\n",
       "      <td>False</td>\n",
       "    </tr>\n",
       "    <tr>\n",
       "      <th>1</th>\n",
       "      <td>183601825</td>\n",
       "      <td>bf</td>\n",
       "      <td>btceur</td>\n",
       "      <td>1517529609000</td>\n",
       "      <td>7354.68045</td>\n",
       "      <td>0.010000</td>\n",
       "      <td>True</td>\n",
       "    </tr>\n",
       "    <tr>\n",
       "      <th>2</th>\n",
       "      <td>183601823</td>\n",
       "      <td>bf</td>\n",
       "      <td>btceur</td>\n",
       "      <td>1517529609000</td>\n",
       "      <td>7354.68045</td>\n",
       "      <td>0.004568</td>\n",
       "      <td>True</td>\n",
       "    </tr>\n",
       "    <tr>\n",
       "      <th>3</th>\n",
       "      <td>183601833</td>\n",
       "      <td>bf</td>\n",
       "      <td>btceur</td>\n",
       "      <td>1517529610000</td>\n",
       "      <td>7354.60000</td>\n",
       "      <td>0.102395</td>\n",
       "      <td>False</td>\n",
       "    </tr>\n",
       "    <tr>\n",
       "      <th>4</th>\n",
       "      <td>183601904</td>\n",
       "      <td>bf</td>\n",
       "      <td>btceur</td>\n",
       "      <td>1517529626000</td>\n",
       "      <td>7343.40750</td>\n",
       "      <td>0.086580</td>\n",
       "      <td>False</td>\n",
       "    </tr>\n",
       "  </tbody>\n",
       "</table>\n",
       "</div>"
      ],
      "text/plain": [
       "          id exchange  symbol           date       price    amount   sell\n",
       "0  183601815       bf  btceur  1517529608000  7349.60000  0.004568  False\n",
       "1  183601825       bf  btceur  1517529609000  7354.68045  0.010000   True\n",
       "2  183601823       bf  btceur  1517529609000  7354.68045  0.004568   True\n",
       "3  183601833       bf  btceur  1517529610000  7354.60000  0.102395  False\n",
       "4  183601904       bf  btceur  1517529626000  7343.40750  0.086580  False"
      ]
     },
     "execution_count": 359,
     "metadata": {},
     "output_type": "execute_result"
    }
   ],
   "source": [
    "import pandas as pd \n",
    "import matplotlib.pyplot as plt\n",
    "import numpy as np\n",
    "import pyarrow\n",
    "\n",
    "file = pd.read_csv(\"Bitfinex_BTCEUR_trades_2018_02_02.csv\")\n",
    "file.head()\n",
    "\n"
   ]
  },
  {
   "cell_type": "code",
   "execution_count": 360,
   "metadata": {},
   "outputs": [],
   "source": [
    "from datetime import datetime\n",
    "import pandas as pd\n",
    "import os\n",
    "import fastparquet \n",
    "\n",
    "def convert_dates(date):\n",
    "    \"\"\"\n",
    "    Converts time since the Unix epoch in milliseconds to a datetime object.\n",
    "    \"\"\"\n",
    "    return datetime.fromtimestamp(date / 1000)\n"
   ]
  },
  {
   "cell_type": "code",
   "execution_count": 361,
   "metadata": {},
   "outputs": [],
   "source": [
    "def read_trade_data(file):\n",
    "    \"\"\"\n",
    "    Read csv containing crypto trade data at <filepath>, convert time fields\n",
    "    and select relevant columns.\n",
    "\n",
    "    :param filepath: path to csv file\n",
    "    :returns: (exchange, symbol, preprocessed Pandas dataframe)\n",
    "    \"\"\"\n",
    "    trades = pd.read_csv(\"Bitfinex_BTCEUR_trades_2018_02_02.csv\")\n",
    "    # convert dates from unix timestamps\n",
    "    trades['date'] = trades['date'].apply(convert_dates)\n",
    "    trades.set_index('date', inplace=True)\n",
    "    trades.sort_index(ascending=True, inplace=True)\n",
    "    # check data relates to a single exchange and coin pair\n",
    "    assert trades['exchange'].nunique() == 1, 'Multiple exchanges present'\n",
    "    assert trades['symbol'].nunique() == 1, 'Multiple symbols present'\n",
    "    # select relevant columns\n",
    "    trade_features = trades[['price', 'amount', 'sell']]\n",
    "    exchange = trades['exchange'].iloc[0]\n",
    "    symbol = trades['symbol'].iloc[0]\n",
    "    return exchange, symbol, trade_features\n",
    "\n"
   ]
  },
  {
   "cell_type": "code",
   "execution_count": 362,
   "metadata": {},
   "outputs": [
    {
     "data": {
      "text/html": [
       "<div>\n",
       "<style scoped>\n",
       "    .dataframe tbody tr th:only-of-type {\n",
       "        vertical-align: middle;\n",
       "    }\n",
       "\n",
       "    .dataframe tbody tr th {\n",
       "        vertical-align: top;\n",
       "    }\n",
       "\n",
       "    .dataframe thead th {\n",
       "        text-align: right;\n",
       "    }\n",
       "</style>\n",
       "<table border=\"1\" class=\"dataframe\">\n",
       "  <thead>\n",
       "    <tr style=\"text-align: right;\">\n",
       "      <th></th>\n",
       "      <th>price</th>\n",
       "      <th>amount</th>\n",
       "      <th>sell</th>\n",
       "    </tr>\n",
       "    <tr>\n",
       "      <th>date</th>\n",
       "      <th></th>\n",
       "      <th></th>\n",
       "      <th></th>\n",
       "    </tr>\n",
       "  </thead>\n",
       "  <tbody>\n",
       "    <tr>\n",
       "      <th>2018-02-02 02:00:08</th>\n",
       "      <td>7349.60000</td>\n",
       "      <td>0.004568</td>\n",
       "      <td>False</td>\n",
       "    </tr>\n",
       "    <tr>\n",
       "      <th>2018-02-02 02:00:09</th>\n",
       "      <td>7354.68045</td>\n",
       "      <td>0.010000</td>\n",
       "      <td>True</td>\n",
       "    </tr>\n",
       "    <tr>\n",
       "      <th>2018-02-02 02:00:09</th>\n",
       "      <td>7354.68045</td>\n",
       "      <td>0.004568</td>\n",
       "      <td>True</td>\n",
       "    </tr>\n",
       "    <tr>\n",
       "      <th>2018-02-02 02:00:10</th>\n",
       "      <td>7354.60000</td>\n",
       "      <td>0.102395</td>\n",
       "      <td>False</td>\n",
       "    </tr>\n",
       "    <tr>\n",
       "      <th>2018-02-02 02:00:26</th>\n",
       "      <td>7343.40750</td>\n",
       "      <td>0.086580</td>\n",
       "      <td>False</td>\n",
       "    </tr>\n",
       "  </tbody>\n",
       "</table>\n",
       "</div>"
      ],
      "text/plain": [
       "                          price    amount   sell\n",
       "date                                            \n",
       "2018-02-02 02:00:08  7349.60000  0.004568  False\n",
       "2018-02-02 02:00:09  7354.68045  0.010000   True\n",
       "2018-02-02 02:00:09  7354.68045  0.004568   True\n",
       "2018-02-02 02:00:10  7354.60000  0.102395  False\n",
       "2018-02-02 02:00:26  7343.40750  0.086580  False"
      ]
     },
     "execution_count": 362,
     "metadata": {},
     "output_type": "execute_result"
    }
   ],
   "source": [
    "def write_processed(exchange, symbol, data, loc=None):\n",
    "    \"\"\"\n",
    "    Write processed features for a given exchange and coin pair\n",
    "    to a parquet file named '<exchange>_<symbol>_trades.parquet'.\n",
    "\n",
    "    :param exchange: str exchange name\n",
    "    :param symbol: str symbol name\n",
    "    :param data: dataframe\n",
    "    :param loc: alternative filepath in which to save\n",
    "    \"\"\"\n",
    "    filename = f'{exchange}_{symbol}_trades.parquet'\n",
    "    path = os.getcwd() if loc is None else loc\n",
    "    filepath = os.path.join(path, filename)\n",
    "    data.to_parquet(file)\n",
    "\n",
    "\n",
    "    if __name__ == \"__main__\":\n",
    "        exchange, symbol, data = read_trade_data('Bitfinex_BTCEUR_trades_'\n",
    "                                             '2018_02_02.csv')\n",
    "\n",
    "        write_processed(exchange, symbol, data)\n",
    "\n",
    "from fastparquet import ParquetFile\n",
    "pf = ParquetFile('bf_btceur_trades.parquet')\n",
    "df = pf.to_pandas()\n",
    "\n",
    "pf = pd.read_parquet('bf_btceur_trades.parquet')\n",
    "pf.dropna()\n",
    "pf.reset_index(inplace = True)\n",
    "pf.head()\n",
    "dates = pf.set_index(['date'], ['price'])\n",
    "dates.head()\n",
    "\n",
    "\n",
    " "
   ]
  },
  {
   "cell_type": "code",
   "execution_count": 363,
   "metadata": {},
   "outputs": [
    {
     "data": {
      "text/html": [
       "<div>\n",
       "<style scoped>\n",
       "    .dataframe tbody tr th:only-of-type {\n",
       "        vertical-align: middle;\n",
       "    }\n",
       "\n",
       "    .dataframe tbody tr th {\n",
       "        vertical-align: top;\n",
       "    }\n",
       "\n",
       "    .dataframe thead th {\n",
       "        text-align: right;\n",
       "    }\n",
       "</style>\n",
       "<table border=\"1\" class=\"dataframe\">\n",
       "  <thead>\n",
       "    <tr style=\"text-align: right;\">\n",
       "      <th></th>\n",
       "      <th>price</th>\n",
       "      <th>amount</th>\n",
       "      <th>sell</th>\n",
       "      <th>SMA-10</th>\n",
       "    </tr>\n",
       "    <tr>\n",
       "      <th>date</th>\n",
       "      <th></th>\n",
       "      <th></th>\n",
       "      <th></th>\n",
       "      <th></th>\n",
       "    </tr>\n",
       "  </thead>\n",
       "  <tbody>\n",
       "    <tr>\n",
       "      <th>2018-02-03 01:58:58</th>\n",
       "      <td>7123.500000</td>\n",
       "      <td>0.10000</td>\n",
       "      <td>True</td>\n",
       "      <td>7139.250000</td>\n",
       "    </tr>\n",
       "    <tr>\n",
       "      <th>2018-02-03 01:59:17</th>\n",
       "      <td>7128.172061</td>\n",
       "      <td>0.03050</td>\n",
       "      <td>True</td>\n",
       "      <td>7138.037206</td>\n",
       "    </tr>\n",
       "    <tr>\n",
       "      <th>2018-02-03 01:59:22</th>\n",
       "      <td>7134.433152</td>\n",
       "      <td>0.02444</td>\n",
       "      <td>False</td>\n",
       "      <td>7137.380521</td>\n",
       "    </tr>\n",
       "    <tr>\n",
       "      <th>2018-02-03 01:59:33</th>\n",
       "      <td>7136.199101</td>\n",
       "      <td>0.01000</td>\n",
       "      <td>True</td>\n",
       "      <td>7136.480431</td>\n",
       "    </tr>\n",
       "    <tr>\n",
       "      <th>2018-02-03 01:59:33</th>\n",
       "      <td>7136.200000</td>\n",
       "      <td>0.00603</td>\n",
       "      <td>True</td>\n",
       "      <td>7134.990431</td>\n",
       "    </tr>\n",
       "  </tbody>\n",
       "</table>\n",
       "</div>"
      ],
      "text/plain": [
       "                           price   amount   sell       SMA-10\n",
       "date                                                         \n",
       "2018-02-03 01:58:58  7123.500000  0.10000   True  7139.250000\n",
       "2018-02-03 01:59:17  7128.172061  0.03050   True  7138.037206\n",
       "2018-02-03 01:59:22  7134.433152  0.02444  False  7137.380521\n",
       "2018-02-03 01:59:33  7136.199101  0.01000   True  7136.480431\n",
       "2018-02-03 01:59:33  7136.200000  0.00603   True  7134.990431"
      ]
     },
     "execution_count": 363,
     "metadata": {},
     "output_type": "execute_result"
    }
   ],
   "source": [
    "#simple moving average\n",
    "MA_WINDOW = 10\n",
    "dates['SMA-10'] = dates['price'].rolling(window=MA_WINDOW).mean()\n",
    "dates.head()\n",
    "dates.tail()"
   ]
  },
  {
   "cell_type": "code",
   "execution_count": 364,
   "metadata": {},
   "outputs": [
    {
     "data": {
      "text/html": [
       "<div>\n",
       "<style scoped>\n",
       "    .dataframe tbody tr th:only-of-type {\n",
       "        vertical-align: middle;\n",
       "    }\n",
       "\n",
       "    .dataframe tbody tr th {\n",
       "        vertical-align: top;\n",
       "    }\n",
       "\n",
       "    .dataframe thead th {\n",
       "        text-align: right;\n",
       "    }\n",
       "</style>\n",
       "<table border=\"1\" class=\"dataframe\">\n",
       "  <thead>\n",
       "    <tr style=\"text-align: right;\">\n",
       "      <th></th>\n",
       "      <th>price</th>\n",
       "      <th>amount</th>\n",
       "      <th>sell</th>\n",
       "      <th>SMA-10</th>\n",
       "      <th>SMA-100</th>\n",
       "    </tr>\n",
       "    <tr>\n",
       "      <th>date</th>\n",
       "      <th></th>\n",
       "      <th></th>\n",
       "      <th></th>\n",
       "      <th></th>\n",
       "      <th></th>\n",
       "    </tr>\n",
       "  </thead>\n",
       "  <tbody>\n",
       "    <tr>\n",
       "      <th>2018-02-03 01:58:58</th>\n",
       "      <td>7123.500000</td>\n",
       "      <td>0.10000</td>\n",
       "      <td>True</td>\n",
       "      <td>7139.250000</td>\n",
       "      <td>7109.745258</td>\n",
       "    </tr>\n",
       "    <tr>\n",
       "      <th>2018-02-03 01:59:17</th>\n",
       "      <td>7128.172061</td>\n",
       "      <td>0.03050</td>\n",
       "      <td>True</td>\n",
       "      <td>7138.037206</td>\n",
       "      <td>7109.866979</td>\n",
       "    </tr>\n",
       "    <tr>\n",
       "      <th>2018-02-03 01:59:22</th>\n",
       "      <td>7134.433152</td>\n",
       "      <td>0.02444</td>\n",
       "      <td>False</td>\n",
       "      <td>7137.380521</td>\n",
       "      <td>7110.111311</td>\n",
       "    </tr>\n",
       "    <tr>\n",
       "      <th>2018-02-03 01:59:33</th>\n",
       "      <td>7136.199101</td>\n",
       "      <td>0.01000</td>\n",
       "      <td>True</td>\n",
       "      <td>7136.480431</td>\n",
       "      <td>7110.263302</td>\n",
       "    </tr>\n",
       "    <tr>\n",
       "      <th>2018-02-03 01:59:33</th>\n",
       "      <td>7136.200000</td>\n",
       "      <td>0.00603</td>\n",
       "      <td>True</td>\n",
       "      <td>7134.990431</td>\n",
       "      <td>7110.537302</td>\n",
       "    </tr>\n",
       "  </tbody>\n",
       "</table>\n",
       "</div>"
      ],
      "text/plain": [
       "                           price   amount   sell       SMA-10      SMA-100\n",
       "date                                                                      \n",
       "2018-02-03 01:58:58  7123.500000  0.10000   True  7139.250000  7109.745258\n",
       "2018-02-03 01:59:17  7128.172061  0.03050   True  7138.037206  7109.866979\n",
       "2018-02-03 01:59:22  7134.433152  0.02444  False  7137.380521  7110.111311\n",
       "2018-02-03 01:59:33  7136.199101  0.01000   True  7136.480431  7110.263302\n",
       "2018-02-03 01:59:33  7136.200000  0.00603   True  7134.990431  7110.537302"
      ]
     },
     "execution_count": 364,
     "metadata": {},
     "output_type": "execute_result"
    }
   ],
   "source": [
    "MA_WINDOW = 100\n",
    "dates['SMA-100'] = dates['price'].rolling(window=MA_WINDOW).mean()\n",
    "dates.head()\n",
    "dates.tail()"
   ]
  },
  {
   "cell_type": "code",
   "execution_count": 365,
   "metadata": {},
   "outputs": [
    {
     "data": {
      "text/plain": [
       "Text(0.5,1,'SIMPLE MOVING AVG WINDOW = 10')"
      ]
     },
     "execution_count": 365,
     "metadata": {},
     "output_type": "execute_result"
    },
    {
     "data": {
      "image/png": "[encoded data removed]",
      "text/plain": [
       "<Figure size 432x288 with 1 Axes>"
      ]
     },
     "metadata": {},
     "output_type": "display_data"
    }
   ],
   "source": [
    "#simple moving average visualization \n",
    "import numpy as np\n",
    "import seaborn as sns \n",
    "plt.style.use('seaborn-whitegrid')\n",
    "fig = plt.figure()\n",
    "ax = plt.axes()\n",
    "x = dates.index.values\n",
    "y = dates['SMA-10']\n",
    "\n",
    "plt.plot(x, y)\n",
    "plt.xlabel(\"Month - Day - Hour\")\n",
    "plt.ylabel(\"Price\")\n",
    "plt.gcf().autofmt_xdate()\n",
    "plt.title(\"SIMPLE MOVING AVG WINDOW = 10\")"
   ]
  },
  {
   "cell_type": "code",
   "execution_count": 366,
   "metadata": {},
   "outputs": [
    {
     "data": {
      "image/png": "[encoded data removed]",
      "text/plain": [
       "<Figure size 432x288 with 1 Axes>"
      ]
     },
     "metadata": {},
     "output_type": "display_data"
    }
   ],
   "source": [
    "plt.style.use('seaborn-whitegrid')\n",
    "fig = plt.figure()\n",
    "ax = plt.axes()\n",
    "x = dates.index.values\n",
    "y = dates['SMA-100']\n",
    "plt.title(\"SIMPLE MOVING AVG WINDOW = 100\")\n",
    "\n",
    "plt.plot(x, y)\n",
    "plt.xlabel(\"Month - Day - Hour\")\n",
    "plt.ylabel(\"Price\")\n",
    "plt.gcf().autofmt_xdate()"
   ]
  },
  {
   "cell_type": "code",
   "execution_count": 367,
   "metadata": {},
   "outputs": [],
   "source": [
    "pf = pd.read_parquet('bf_btceur_trades.parquet')\n",
    "pf.dropna()\n",
    "pf.reset_index(inplace = True)\n",
    "pf.head()\n",
    "dates = pf.set_index(['date'], ['price'])\n",
    "\n"
   ]
  },
  {
   "cell_type": "code",
   "execution_count": 368,
   "metadata": {},
   "outputs": [
    {
     "data": {
      "text/html": [
       "<div>\n",
       "<style scoped>\n",
       "    .dataframe tbody tr th:only-of-type {\n",
       "        vertical-align: middle;\n",
       "    }\n",
       "\n",
       "    .dataframe tbody tr th {\n",
       "        vertical-align: top;\n",
       "    }\n",
       "\n",
       "    .dataframe thead th {\n",
       "        text-align: right;\n",
       "    }\n",
       "</style>\n",
       "<table border=\"1\" class=\"dataframe\">\n",
       "  <thead>\n",
       "    <tr style=\"text-align: right;\">\n",
       "      <th></th>\n",
       "      <th>date</th>\n",
       "      <th>price</th>\n",
       "      <th>amount</th>\n",
       "      <th>sell</th>\n",
       "    </tr>\n",
       "  </thead>\n",
       "  <tbody>\n",
       "    <tr>\n",
       "      <th>0</th>\n",
       "      <td>2018-02-02 02:00:08</td>\n",
       "      <td>7349.60000</td>\n",
       "      <td>0.004568</td>\n",
       "      <td>False</td>\n",
       "    </tr>\n",
       "    <tr>\n",
       "      <th>1</th>\n",
       "      <td>2018-02-02 02:00:09</td>\n",
       "      <td>7354.68045</td>\n",
       "      <td>0.010000</td>\n",
       "      <td>True</td>\n",
       "    </tr>\n",
       "    <tr>\n",
       "      <th>2</th>\n",
       "      <td>2018-02-02 02:00:09</td>\n",
       "      <td>7354.68045</td>\n",
       "      <td>0.004568</td>\n",
       "      <td>True</td>\n",
       "    </tr>\n",
       "    <tr>\n",
       "      <th>3</th>\n",
       "      <td>2018-02-02 02:00:10</td>\n",
       "      <td>7354.60000</td>\n",
       "      <td>0.102395</td>\n",
       "      <td>False</td>\n",
       "    </tr>\n",
       "    <tr>\n",
       "      <th>4</th>\n",
       "      <td>2018-02-02 02:00:26</td>\n",
       "      <td>7343.40750</td>\n",
       "      <td>0.086580</td>\n",
       "      <td>False</td>\n",
       "    </tr>\n",
       "  </tbody>\n",
       "</table>\n",
       "</div>"
      ],
      "text/plain": [
       "                 date       price    amount   sell\n",
       "0 2018-02-02 02:00:08  7349.60000  0.004568  False\n",
       "1 2018-02-02 02:00:09  7354.68045  0.010000   True\n",
       "2 2018-02-02 02:00:09  7354.68045  0.004568   True\n",
       "3 2018-02-02 02:00:10  7354.60000  0.102395  False\n",
       "4 2018-02-02 02:00:26  7343.40750  0.086580  False"
      ]
     },
     "execution_count": 368,
     "metadata": {},
     "output_type": "execute_result"
    }
   ],
   "source": [
    "pf.head()\n"
   ]
  },
  {
   "cell_type": "code",
   "execution_count": 369,
   "metadata": {
    "scrolled": true
   },
   "outputs": [
    {
     "name": "stderr",
     "output_type": "stream",
     "text": [
      "No handles with labels found to put in legend.\n"
     ]
    },
    {
     "data": {
      "text/plain": [
       "<matplotlib.legend.Legend at 0x1a2bfe2208>"
      ]
     },
     "execution_count": 369,
     "metadata": {},
     "output_type": "execute_result"
    },
    {
     "data": {
      "image/png": "[encoded data removed]",
      "text/plain": [
       "<Figure size 432x288 with 1 Axes>"
      ]
     },
     "metadata": {},
     "output_type": "display_data"
    }
   ],
   "source": [
    "true_pf = pf[pf['sell']== True]\n",
    "false_pf = pf[pf['sell']== False]\n",
    "x_var_true = true_pf['price']\n",
    "x_var_false = false_pf['price']\n",
    "x = pf['price']\n",
    "y_var_true = true_pf['amount']\n",
    "y_var_false = false_pf['amount']\n",
    "z = pf['sell']\n",
    "# c=condition\n",
    "plt.legend()\n",
    "plt.xlabel('Price')\n",
    "plt.ylabel('Amount')\n",
    "plt.title(\"Crypto Prices That Have & Have Not Sold\")\n",
    "#condition = np.where(z!=True, 'red', np.where(z!=False, 'green', 'r'))\n",
    "plt.scatter(x_var_true, y_var_true, s=5, c = 'g', label = 'Sold')\n",
    "plt.scatter(x_var_false, y_var_false, s=5, c = 'r', label = 'Not Sold')\n",
    "plt.legend()"
   ]
  },
  {
   "cell_type": "code",
   "execution_count": null,
   "metadata": {},
   "outputs": [],
   "source": []
  },
  {
   "cell_type": "code",
   "execution_count": null,
   "metadata": {
    "scrolled": false
   },
   "outputs": [],
   "source": []
  },
  {
   "cell_type": "code",
   "execution_count": null,
   "metadata": {},
   "outputs": [],
   "source": []
  },
  {
   "cell_type": "code",
   "execution_count": null,
   "metadata": {},
   "outputs": [],
   "source": [
    "\n"
   ]
  },
  {
   "cell_type": "code",
   "execution_count": null,
   "metadata": {},
   "outputs": [],
   "source": []
  },
  {
   "cell_type": "code",
   "execution_count": null,
   "metadata": {},
   "outputs": [],
   "source": [
    "\n"
   ]
  },
  {
   "cell_type": "code",
   "execution_count": null,
   "metadata": {},
   "outputs": [],
   "source": []
  },
  {
   "cell_type": "code",
   "execution_count": null,
   "metadata": {},
   "outputs": [],
   "source": []
  },
  {
   "cell_type": "code",
   "execution_count": null,
   "metadata": {},
   "outputs": [],
   "source": []
  },
  {
   "cell_type": "code",
   "execution_count": null,
   "metadata": {},
   "outputs": [],
   "source": []
  },
  {
   "cell_type": "code",
   "execution_count": null,
   "metadata": {},
   "outputs": [],
   "source": []
  },
  {
   "cell_type": "code",
   "execution_count": null,
   "metadata": {},
   "outputs": [],
   "source": []
  },
  {
   "cell_type": "code",
   "execution_count": null,
   "metadata": {},
   "outputs": [],
   "source": []
  }
 ],
 "metadata": {
  "kernelspec": {
   "display_name": "Python 3",
   "language": "python",
   "name": "python3"
  },
  "language_info": {
   "codemirror_mode": {
    "name": "ipython",
    "version": 3
   },
   "file_extension": ".py",
   "mimetype": "text/x-python",
   "name": "python",
   "nbconvert_exporter": "python",
   "pygments_lexer": "ipython3",
   "version": "3.6.5"
  }
 },
 "nbformat": 4,
 "nbformat_minor": 2
}
