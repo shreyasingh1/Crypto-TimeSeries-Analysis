{
 "cells": [
  {
   "cell_type": "code",
   "execution_count": 23,
   "metadata": {
    "scrolled": true
   },
   "outputs": [
    {
     "data": {
      "text/html": [
       "<div>\n",
       "<style scoped>\n",
       "    .dataframe tbody tr th:only-of-type {\n",
       "        vertical-align: middle;\n",
       "    }\n",
       "\n",
       "    .dataframe tbody tr th {\n",
       "        vertical-align: top;\n",
       "    }\n",
       "\n",
       "    .dataframe thead th {\n",
       "        text-align: right;\n",
       "    }\n",
       "</style>\n",
       "<table border=\"1\" class=\"dataframe\">\n",
       "  <thead>\n",
       "    <tr style=\"text-align: right;\">\n",
       "      <th></th>\n",
       "      <th>id</th>\n",
       "      <th>exchange</th>\n",
       "      <th>symbol</th>\n",
       "      <th>date</th>\n",
       "      <th>price</th>\n",
       "      <th>amount</th>\n",
       "      <th>sell</th>\n",
       "    </tr>\n",
       "  </thead>\n",
       "  <tbody>\n",
       "    <tr>\n",
       "      <th>0</th>\n",
       "      <td>183601815</td>\n",
       "      <td>bf</td>\n",
       "      <td>btceur</td>\n",
       "      <td>1517529608000</td>\n",
       "      <td>7349.60000</td>\n",
       "      <td>0.004568</td>\n",
       "      <td>False</td>\n",
       "    </tr>\n",
       "    <tr>\n",
       "      <th>1</th>\n",
       "      <td>183601825</td>\n",
       "      <td>bf</td>\n",
       "      <td>btceur</td>\n",
       "      <td>1517529609000</td>\n",
       "      <td>7354.68045</td>\n",
       "      <td>0.010000</td>\n",
       "      <td>True</td>\n",
       "    </tr>\n",
       "    <tr>\n",
       "      <th>2</th>\n",
       "      <td>183601823</td>\n",
       "      <td>bf</td>\n",
       "      <td>btceur</td>\n",
       "      <td>1517529609000</td>\n",
       "      <td>7354.68045</td>\n",
       "      <td>0.004568</td>\n",
       "      <td>True</td>\n",
       "    </tr>\n",
       "    <tr>\n",
       "      <th>3</th>\n",
       "      <td>183601833</td>\n",
       "      <td>bf</td>\n",
       "      <td>btceur</td>\n",
       "      <td>1517529610000</td>\n",
       "      <td>7354.60000</td>\n",
       "      <td>0.102395</td>\n",
       "      <td>False</td>\n",
       "    </tr>\n",
       "    <tr>\n",
       "      <th>4</th>\n",
       "      <td>183601904</td>\n",
       "      <td>bf</td>\n",
       "      <td>btceur</td>\n",
       "      <td>1517529626000</td>\n",
       "      <td>7343.40750</td>\n",
       "      <td>0.086580</td>\n",
       "      <td>False</td>\n",
       "    </tr>\n",
       "  </tbody>\n",
       "</table>\n",
       "</div>"
      ],
      "text/plain": [
       "          id exchange  symbol           date       price    amount   sell\n",
       "0  183601815       bf  btceur  1517529608000  7349.60000  0.004568  False\n",
       "1  183601825       bf  btceur  1517529609000  7354.68045  0.010000   True\n",
       "2  183601823       bf  btceur  1517529609000  7354.68045  0.004568   True\n",
       "3  183601833       bf  btceur  1517529610000  7354.60000  0.102395  False\n",
       "4  183601904       bf  btceur  1517529626000  7343.40750  0.086580  False"
      ]
     },
     "execution_count": 23,
     "metadata": {},
     "output_type": "execute_result"
    }
   ],
   "source": [
    "import csv\n",
    "import pandas as pd\n",
    "import numpy as np\n",
    "import matplotlib.pyplot as plt\n",
    "from scipy.fftpack import fft, ifft\n",
    "\n",
    "\n",
    "df=pd.read_csv('Bitfinex_BTCEUR_trades_2018_02_02.csv')\n",
    "df.head()"
   ]
  },
  {
   "cell_type": "code",
   "execution_count": 38,
   "metadata": {},
   "outputs": [
    {
     "name": "stdout",
     "output_type": "stream",
     "text": [
      "[ 1.09136053e+08      +0.j          1.57601126e+06+1115943.48418676j\n",
      " -5.60395391e+05 -831023.52871301j ... -4.58709624e+04  +70302.00787675j\n",
      " -5.60395391e+05 +831023.52871301j  1.57601126e+06-1115943.48418676j]\n"
     ]
    }
   ],
   "source": [
    "from scipy.fftpack import fft\n",
    "\n",
    "x = df['date']\n",
    "y = df['price']\n",
    "yf = fft(y)\n",
    "print(yf)\n",
    "\n"
   ]
  },
  {
   "cell_type": "code",
   "execution_count": 45,
   "metadata": {},
   "outputs": [
    {
     "data": {
      "text/plain": [
       "[<matplotlib.lines.Line2D at 0x7f4150adeef0>]"
      ]
     },
     "execution_count": 45,
     "metadata": {},
     "output_type": "execute_result"
    },
    {
     "data": {
      "image/png": "[encoded data removed]",
      "text/plain": [
       "<Figure size 432x288 with 1 Axes>"
      ]
     },
     "metadata": {},
     "output_type": "display_data"
    }
   ],
   "source": [
    "\n",
    "freq = np.fft.fftfreq(len(y), d=x[1]-x[0])\n",
    "plt.plot(freq, abs(fy))"
   ]
  },
  {
   "cell_type": "code",
   "execution_count": 36,
   "metadata": {},
   "outputs": [
    {
     "data": {
      "text/html": [
       "<div>\n",
       "<style scoped>\n",
       "    .dataframe tbody tr th:only-of-type {\n",
       "        vertical-align: middle;\n",
       "    }\n",
       "\n",
       "    .dataframe tbody tr th {\n",
       "        vertical-align: top;\n",
       "    }\n",
       "\n",
       "    .dataframe thead th {\n",
       "        text-align: right;\n",
       "    }\n",
       "</style>\n",
       "<table border=\"1\" class=\"dataframe\">\n",
       "  <thead>\n",
       "    <tr style=\"text-align: right;\">\n",
       "      <th></th>\n",
       "      <th>id</th>\n",
       "      <th>exchange</th>\n",
       "      <th>symbol</th>\n",
       "      <th>date</th>\n",
       "      <th>price</th>\n",
       "      <th>amount</th>\n",
       "      <th>sell</th>\n",
       "      <th>fourier</th>\n",
       "    </tr>\n",
       "  </thead>\n",
       "  <tbody>\n",
       "    <tr>\n",
       "      <th>0</th>\n",
       "      <td>183601815</td>\n",
       "      <td>bf</td>\n",
       "      <td>btceur</td>\n",
       "      <td>1517529608000</td>\n",
       "      <td>7349.60000</td>\n",
       "      <td>0.004568</td>\n",
       "      <td>False</td>\n",
       "      <td>(109136052.74640213+0j)</td>\n",
       "    </tr>\n",
       "    <tr>\n",
       "      <th>1</th>\n",
       "      <td>183601825</td>\n",
       "      <td>bf</td>\n",
       "      <td>btceur</td>\n",
       "      <td>1517529609000</td>\n",
       "      <td>7354.68045</td>\n",
       "      <td>0.010000</td>\n",
       "      <td>True</td>\n",
       "      <td>(1576011.257286156+1115943.4841867601j)</td>\n",
       "    </tr>\n",
       "    <tr>\n",
       "      <th>2</th>\n",
       "      <td>183601823</td>\n",
       "      <td>bf</td>\n",
       "      <td>btceur</td>\n",
       "      <td>1517529609000</td>\n",
       "      <td>7354.68045</td>\n",
       "      <td>0.004568</td>\n",
       "      <td>True</td>\n",
       "      <td>(-560395.3906116104-831023.5287130127j)</td>\n",
       "    </tr>\n",
       "    <tr>\n",
       "      <th>3</th>\n",
       "      <td>183601833</td>\n",
       "      <td>bf</td>\n",
       "      <td>btceur</td>\n",
       "      <td>1517529610000</td>\n",
       "      <td>7354.60000</td>\n",
       "      <td>0.102395</td>\n",
       "      <td>False</td>\n",
       "      <td>(-45870.962430840504-70302.0078767483j)</td>\n",
       "    </tr>\n",
       "    <tr>\n",
       "      <th>4</th>\n",
       "      <td>183601904</td>\n",
       "      <td>bf</td>\n",
       "      <td>btceur</td>\n",
       "      <td>1517529626000</td>\n",
       "      <td>7343.40750</td>\n",
       "      <td>0.086580</td>\n",
       "      <td>False</td>\n",
       "      <td>(44044.57494423142-679763.6959299095j)</td>\n",
       "    </tr>\n",
       "  </tbody>\n",
       "</table>\n",
       "</div>"
      ],
      "text/plain": [
       "          id exchange  symbol           date       price    amount   sell  \\\n",
       "0  183601815       bf  btceur  1517529608000  7349.60000  0.004568  False   \n",
       "1  183601825       bf  btceur  1517529609000  7354.68045  0.010000   True   \n",
       "2  183601823       bf  btceur  1517529609000  7354.68045  0.004568   True   \n",
       "3  183601833       bf  btceur  1517529610000  7354.60000  0.102395  False   \n",
       "4  183601904       bf  btceur  1517529626000  7343.40750  0.086580  False   \n",
       "\n",
       "                                   fourier  \n",
       "0                  (109136052.74640213+0j)  \n",
       "1  (1576011.257286156+1115943.4841867601j)  \n",
       "2  (-560395.3906116104-831023.5287130127j)  \n",
       "3  (-45870.962430840504-70302.0078767483j)  \n",
       "4   (44044.57494423142-679763.6959299095j)  "
      ]
     },
     "execution_count": 36,
     "metadata": {},
     "output_type": "execute_result"
    }
   ],
   "source": [
    "df['fourier'] = yf\n",
    "df.head()"
   ]
  },
  {
   "cell_type": "code",
   "execution_count": null,
   "metadata": {},
   "outputs": [],
   "source": [
    "\n"
   ]
  },
  {
   "cell_type": "code",
   "execution_count": null,
   "metadata": {},
   "outputs": [],
   "source": []
  }
 ],
 "metadata": {
  "kernelspec": {
   "display_name": "Python 3",
   "language": "python",
   "name": "python3"
  },
  "language_info": {
   "codemirror_mode": {
    "name": "ipython",
    "version": 3
   },
   "file_extension": ".py",
   "mimetype": "text/x-python",
   "name": "python",
   "nbconvert_exporter": "python",
   "pygments_lexer": "ipython3",
   "version": "3.6.5"
  }
 },
 "nbformat": 4,
 "nbformat_minor": 2
}
