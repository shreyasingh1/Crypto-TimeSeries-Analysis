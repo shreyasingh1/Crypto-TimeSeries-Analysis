{
 "cells": [
  {
   "cell_type": "code",
   "execution_count": 1,
   "metadata": {},
   "outputs": [],
   "source": [
    "from urllib.parse import urljoin\n",
    "import requests\n",
    "import time\n",
    "import pandas as pd"
   ]
  },
  {
   "cell_type": "code",
   "execution_count": 4,
   "metadata": {},
   "outputs": [],
   "source": [
    "BASEURL = 'https://api.bitfinex.com/v2/trades/'\n",
    "SYMBOL = 'tBTCUSD'\n",
    "LIMIT = 1000\n",
    "REQUESTS = 10\n",
    "WAIT = 60"
   ]
  },
  {
   "cell_type": "code",
   "execution_count": 6,
   "metadata": {},
   "outputs": [
    {
     "name": "stdout",
     "output_type": "stream",
     "text": [
      "https://api.bitfinex.com/v2/trades/tBTCUSD/hist\n",
      "Request successful\n",
      "1000 trades since last timestamp\n",
      "https://api.bitfinex.com/v2/trades/tBTCUSD/hist\n",
      "Request successful\n",
      "1000 trades since last timestamp\n"
     ]
    },
    {
     "ename": "KeyboardInterrupt",
     "evalue": "",
     "output_type": "error",
     "traceback": [
      "\u001b[0;31m---------------------------------------------------------------------------\u001b[0m",
      "\u001b[0;31mKeyboardInterrupt\u001b[0m                         Traceback (most recent call last)",
      "\u001b[0;32m<ipython-input-6-cc953fc5c211>\u001b[0m in \u001b[0;36m<module>\u001b[0;34m()\u001b[0m\n\u001b[1;32m     22\u001b[0m         \u001b[0mtimedelta\u001b[0m \u001b[0;34m=\u001b[0m \u001b[0mtime\u001b[0m\u001b[0;34m.\u001b[0m\u001b[0mtime\u001b[0m\u001b[0;34m(\u001b[0m\u001b[0;34m)\u001b[0m \u001b[0;34m-\u001b[0m \u001b[0mquery_time\u001b[0m\u001b[0;34m\u001b[0m\u001b[0m\n\u001b[1;32m     23\u001b[0m         \u001b[0;32mif\u001b[0m \u001b[0mtimedelta\u001b[0m \u001b[0;34m<\u001b[0m \u001b[0mWAIT\u001b[0m\u001b[0;34m:\u001b[0m\u001b[0;34m\u001b[0m\u001b[0m\n\u001b[0;32m---> 24\u001b[0;31m             \u001b[0mtime\u001b[0m\u001b[0;34m.\u001b[0m\u001b[0msleep\u001b[0m\u001b[0;34m(\u001b[0m\u001b[0mWAIT\u001b[0m \u001b[0;34m-\u001b[0m \u001b[0mtimedelta\u001b[0m\u001b[0;34m)\u001b[0m\u001b[0;34m\u001b[0m\u001b[0m\n\u001b[0m\u001b[1;32m     25\u001b[0m \u001b[0;34m\u001b[0m\u001b[0m\n\u001b[1;32m     26\u001b[0m \u001b[0mprint\u001b[0m\u001b[0;34m(\u001b[0m\u001b[0;34mf'Completed {successful_requests} requests successfully'\u001b[0m\u001b[0;34m)\u001b[0m\u001b[0;34m\u001b[0m\u001b[0m\n",
      "\u001b[0;31mKeyboardInterrupt\u001b[0m: "
     ]
    }
   ],
   "source": [
    "last_timestamp = 0\n",
    "successful_requests = 0\n",
    "trades = []\n",
    "for _ in range(REQUESTS):\n",
    "    url = urljoin(BASEURL, f'{SYMBOL}/hist')\n",
    "    query_time = time.time()\n",
    "    \n",
    "    print(url)\n",
    "    response = requests.get(url,\n",
    "                            params={'limit': LIMIT,\n",
    "                                    'start': last_timestamp})\n",
    "    \n",
    "    if response.status_code == 200:\n",
    "        print('Request successful')\n",
    "        successful_requests += 1\n",
    "        trade_data = pd.DataFrame(response.json(),\n",
    "                                  columns=['ID', 'MTS', 'AMOUNT', 'PRICE'])\n",
    "        print(f'{len(trade_data)} trades since last timestamp')\n",
    "        last_timestamp = max(trade_data['PRICE'])\n",
    "        trades.append(trade_data)\n",
    "        \n",
    "        timedelta = time.time() - query_time\n",
    "        if timedelta < WAIT:\n",
    "            time.sleep(WAIT - timedelta)\n",
    "\n",
    "print(f'Completed {successful_requests} requests successfully')\n",
    "\n",
    "all_trades = pd.concat(trades)\n",
    "all_trades.to_parquet(f'{SYMBOL}_trades.parquet')"
   ]
  },
  {
   "cell_type": "code",
   "execution_count": null,
   "metadata": {},
   "outputs": [],
   "source": []
  }
 ],
 "metadata": {
  "kernelspec": {
   "display_name": "Python 3",
   "language": "python",
   "name": "python3"
  },
  "language_info": {
   "codemirror_mode": {
    "name": "ipython",
    "version": 3
   },
   "file_extension": ".py",
   "mimetype": "text/x-python",
   "name": "python",
   "nbconvert_exporter": "python",
   "pygments_lexer": "ipython3",
   "version": "3.6.5"
  }
 },
 "nbformat": 4,
 "nbformat_minor": 2
}
